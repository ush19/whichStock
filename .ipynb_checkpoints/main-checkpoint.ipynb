{
 "cells": [
  {
   "cell_type": "code",
   "execution_count": null,
   "metadata": {},
   "outputs": [],
   "source": [
    "###REMEMBER TO CLEAR os.chdir() AND RESTART KERNEL AND CLEAR OUTPUT \n",
    "\n",
    "###FOR EXAMPLE: AAPL\n",
    "#https://investor.apple.com/sec-filings/default.aspx\n",
    "#10Q and 10K in whichStock directory   "
   ]
  },
  {
   "cell_type": "code",
   "execution_count": null,
   "metadata": {},
   "outputs": [],
   "source": [
    "from urllib.request import Request, urlopen\n",
    "\n",
    "import os\n",
    "import requests\n",
    "import re\n",
    "import json\n",
    "import pandas as pd\n",
    "\n",
    "import matplotlib.pyplot as plt"
   ]
  },
  {
   "cell_type": "code",
   "execution_count": null,
   "metadata": {},
   "outputs": [],
   "source": [
    "#get API key file contents and connect to FMP API\n",
    "#os.chdir('~')\n",
    "\n",
    "FMP_API_KEY = \"\"\n",
    "BASE_URL = \"\"\n",
    "\n",
    "with open('FMP_API.txt', 'r') as file: \n",
    "    for line in file: \n",
    "        if line.startswith('FMP_API_KEY'): \n",
    "            FMP_API_KEY = line.split('\"')[1]\n",
    "        elif line.startswith('BASE_URL'): \n",
    "            BASE_URL = line.split('\"')[1]\n",
    "\n",
    "ticker = input(\"Enter ticker symbol for Buffett DCA Analysis: \")"
   ]
  },
  {
   "cell_type": "code",
   "execution_count": null,
   "metadata": {},
   "outputs": [],
   "source": [
    "# income statements calls\n",
    "# without limit parameter in URL: \n",
    "annual_income_stmt = pd.DataFrame((requests.get(BASE_URL + '/api/v3/income-statement/' + ticker + '?apikey=' + FMP_API_KEY)).json())\n",
    "quarterly_income_stmt = pd.DataFrame((requests.get(BASE_URL + '/api/v3/income-statement/' + ticker + '?period=quarter&apikey=' + FMP_API_KEY)).json())\n",
    "\n",
    "#used in per share earnings formulation\n",
    "shares_call = pd.DataFrame((requests.get(BASE_URL + '/api/v4/shares_float?symbol=' + ticker + '&apikey=' + FMP_API_KEY)).json())\n",
    "\n",
    "# balance sheet calls, without limit parameter in URL: \n",
    "annual_balance_sheet = pd.DataFrame((requests.get(BASE_URL + '/api/v3/balance-sheet-statement/' + ticker + '?apikey=' + FMP_API_KEY)).json())\n",
    "quarterly_balance_sheet = pd.DataFrame((requests.get(BASE_URL + '/api/v3/balance-sheet-statement/' + ticker + '?period=quarter&apikey=' + FMP_API_KEY)).json())"
   ]
  },
  {
   "cell_type": "code",
   "execution_count": null,
   "metadata": {},
   "outputs": [],
   "source": [
    "annual_balance_sheet.head()"
   ]
  },
  {
   "cell_type": "code",
   "execution_count": null,
   "metadata": {},
   "outputs": [],
   "source": [
    "annual_income_stmt.head()"
   ]
  },
  {
   "cell_type": "code",
   "execution_count": null,
   "metadata": {},
   "outputs": [],
   "source": [
    "quarterly_income_stmt.columns"
   ]
  },
  {
   "cell_type": "code",
   "execution_count": null,
   "metadata": {},
   "outputs": [],
   "source": [
    "#[INCOME STATEMENT][REVENUE][COST OF GOODS SOLD]\n",
    "#   calculate gross profit, annually and monthly\n",
    "#   WB formula:   NET REVENUE = TOTAL REVENUE - COGS\n",
    "#   FMP formula:  REVENUE - COST OF REVENUE\n",
    "\n",
    "annual_metrics = pd.DataFrame()\n",
    "annual_metrics['Ticker'], annual_metrics['Frequency'], annual_metrics['Year'], annual_metrics[\"Filing Date\"], annual_metrics[\"Gross Profit\"] = [ticker, '', annual_income_stmt['calendarYear'], annual_income_stmt[\"fillingDate\"], annual_income_stmt['revenue'] - annual_income_stmt['costOfRevenue']]\n",
    "annual_metrics['Ticker'] = ticker\n",
    "annual_metrics['Frequency'] = 'Annually'\n",
    "\n",
    "#annual_metrics\n",
    "\n",
    "quarterly_metrics = pd.DataFrame()\n",
    "quarterly_metrics['Ticker'], quarterly_metrics['Frequency'], quarterly_metrics['Year'], quarterly_metrics['Quarter'], quarterly_metrics[\"Filing Date\"], quarterly_metrics[\"Gross Profit\"] = [ticker, '', quarterly_income_stmt['calendarYear'], quarterly_income_stmt['period'], quarterly_income_stmt['fillingDate'], quarterly_income_stmt['revenue'] - quarterly_income_stmt['costOfRevenue']]\n",
    "quarterly_metrics['Ticker'] = ticker\n",
    "quarterly_metrics['Frequency'] = 'Quarterly'\n",
    "\n",
    "#quarterly_metrics\n"
   ]
  },
  {
   "cell_type": "code",
   "execution_count": null,
   "metadata": {},
   "outputs": [],
   "source": [
    "#[INCOME STATEMENT][COST OF GOODS SOLD]\n",
    "#   store COGS value in metrics table, annually and quarterly\n",
    "annual_metrics['COGS'] = annual_income_stmt['costOfRevenue']\n",
    "\n",
    "quarterly_metrics['COGS'] = quarterly_income_stmt['costOfRevenue']"
   ]
  },
  {
   "cell_type": "code",
   "execution_count": null,
   "metadata": {},
   "outputs": [],
   "source": [
    "#annual_metrics.head()\n",
    "#quarterly_metrics.head()"
   ]
  },
  {
   "cell_type": "code",
   "execution_count": null,
   "metadata": {},
   "outputs": [],
   "source": [
    "#[INCOME STATEMENT][REVENUE][COST OF GOODS SOLD]\n",
    "#   calculate gross profit margin, annually and monthly\n",
    "#   WB formula:   GROSS PROFIT MARGIN = GROSS PROFIT / TOTAL REVENUE\n",
    "#   FMP formula:  GROSS PROFIT MARGIN = GROSS PROFIT / REVENUE\n",
    "\n",
    "#1 IN DATAFRAME NAME SINCE FIRST TIME MERGING RAW AND CALCULATED DATA\n",
    "annual_joined_1 = annual_income_stmt.merge(annual_metrics, how = 'inner', left_on = ['fillingDate', 'calendarYear'], right_on = ['Filing Date', 'Year'])\n",
    "quarterly_joined_1 = quarterly_income_stmt.merge(quarterly_metrics, how = 'inner', left_on = ['fillingDate', 'calendarYear', 'period'], right_on = ['Filing Date', 'Year', 'Quarter'])\n",
    "\n",
    "#calculations for GPM \n",
    "annual_metrics['Gross Profit Margin'] = (annual_joined_1['Gross Profit'] / annual_joined_1['revenue'])\n",
    "\n",
    "quarterly_metrics['Gross Profit Margin'] = quarterly_joined_1['Gross Profit'] / quarterly_joined_1['revenue']"
   ]
  },
  {
   "cell_type": "code",
   "execution_count": null,
   "metadata": {},
   "outputs": [],
   "source": [
    "#[INCOME STATEMENT][OPERATING EXPENSES][GROSS PROFIT]\n",
    "#   calculate operating profit or loss, annually and monthly\n",
    "#   WB formula: GROSS PROFIT - TOTAL OPERATING EXPENSES\n",
    "#   FMP formula: GROSS PROFIT - OPERATING EXPENSES\n",
    "\n",
    "#calculations for operating P/L\n",
    "annual_metrics['Operating P/L'] = annual_joined_1['Gross Profit'] - annual_joined_1['operatingExpenses']\n",
    "\n",
    "quarterly_metrics['Operating P/L'] = quarterly_joined_1['Gross Profit'] - quarterly_joined_1['operatingExpenses']"
   ]
  },
  {
   "cell_type": "code",
   "execution_count": null,
   "metadata": {},
   "outputs": [],
   "source": [
    "#[INCOME STATEMENT][SELLING, GENERAL, ADMINISTRATIVE EXPENSES][GROSS PROFIT]\n",
    "#   calculate SGA percentage as a percentage of gross profit, annually and monthly\n",
    "#   WB formula: (1) SGA amount (2) SGA / gross profit\n",
    "#   FMP formula: sellingGeneralAndAdministrativeExpenses\n",
    "\n",
    "annual_metrics['SGA'] = annual_joined_1['sellingGeneralAndAdministrativeExpenses']\n",
    "annual_metrics['SGA by Gross Profit'] = (annual_joined_1['sellingGeneralAndAdministrativeExpenses'] / annual_joined_1['Gross Profit'])\n",
    "\n",
    "quarterly_metrics['SGA'] = quarterly_joined_1['sellingGeneralAndAdministrativeExpenses']\n",
    "quarterly_metrics['SGA by Gross Profit'] = (quarterly_joined_1['sellingGeneralAndAdministrativeExpenses'] / quarterly_joined_1['Gross Profit'])"
   ]
  },
  {
   "cell_type": "code",
   "execution_count": null,
   "metadata": {},
   "outputs": [],
   "source": [
    "#[INCOME STATEMENT][RESEARCH AND DEVELOPMENT][GROSS PROFIT]\n",
    "#   calculate R&D percentage as a percentage of gross profit, annually and monthly\n",
    "#   WB formula: (1) R&D amount (2) R&D / gross profit\n",
    "#   FMP formula: researchAndDevelopmentExpenses\n",
    "\n",
    "annual_metrics['R&D'] = annual_joined_1['researchAndDevelopmentExpenses']\n",
    "annual_metrics['R&D by Gross Profit'] = (annual_joined_1['researchAndDevelopmentExpenses'] / annual_joined_1['Gross Profit'])\n",
    "\n",
    "quarterly_metrics['R&D'] = quarterly_joined_1['researchAndDevelopmentExpenses']\n",
    "quarterly_metrics['R&D by Gross Profit'] = (quarterly_joined_1['researchAndDevelopmentExpenses'] / quarterly_joined_1['Gross Profit'])"
   ]
  },
  {
   "cell_type": "code",
   "execution_count": null,
   "metadata": {
    "scrolled": true
   },
   "outputs": [],
   "source": [
    "#[INCOME STATEMENT][DEPRECIATION][OPERATING PROFIT]\n",
    "#   calculate SGA percentage as a percentage of gross profit, annually and monthly\n",
    "#   WB formula: (1) Depreciation amount (2) Depreciation / gross profit\n",
    "#   FMP formula: depreciationAndAmortization\n",
    "#   also include EBITDA\n",
    "\n",
    "annual_metrics['EBITDA'] = annual_joined_1['ebitda']\n",
    "annual_metrics['Depreciation'] = annual_joined_1['depreciationAndAmortization']\n",
    "annual_metrics['Depreciation by Operating Profit'] = (annual_joined_1['depreciationAndAmortization'] / annual_joined_1['Gross Profit'])\n",
    "\n",
    "quarterly_metrics['ebitda'] = quarterly_joined_1['ebitda']\n",
    "quarterly_metrics['Depreciation'] = quarterly_joined_1['depreciationAndAmortization']\n",
    "quarterly_metrics['Depreciation by Operating Profit'] = (quarterly_joined_1['depreciationAndAmortization'] / quarterly_joined_1['Gross Profit'])"
   ]
  },
  {
   "cell_type": "code",
   "execution_count": null,
   "metadata": {},
   "outputs": [],
   "source": [
    "#[INCOME STATEMENT][INTEREST EXPENSE][OPERATING P/L]\n",
    "#   calculate Interest Expense percentage as a percentage of operating P/L, annually and monthly\n",
    "#   WB formula: interest expense / operating income\n",
    "#   FMP formula: interestExpense\n",
    "\n",
    "annual_metrics['Interest Expense'] = annual_joined_1['interestExpense']\n",
    "annual_metrics['Interest Expense by Operating P/L'] = (annual_joined_1['interestExpense'] / annual_metrics['Operating P/L'])\n",
    "\n",
    "quarterly_metrics['Interest Expense'] = quarterly_joined_1['interestExpense']\n",
    "quarterly_metrics['Interest Expense by Operating P/L'] = (quarterly_joined_1['interestExpense'] / quarterly_metrics['Operating P/L'])"
   ]
  },
  {
   "cell_type": "code",
   "execution_count": null,
   "metadata": {},
   "outputs": [],
   "source": [
    "#[INCOME STATEMENT][GAIN/(LOSS) SALE ASSETS, OTHER]\n",
    "#   not used, not tracked"
   ]
  },
  {
   "cell_type": "code",
   "execution_count": null,
   "metadata": {},
   "outputs": [],
   "source": [
    "#[INCOME STATEMENT][INCOME BEFORE TAX]\n",
    "#   report as is\n",
    "#   FMP formula: incomeBeforeTax\n",
    "\n",
    "annual_metrics['Income Before Taxes'] = annual_joined_1['incomeBeforeTax']\n",
    "\n",
    "quarterly_metrics['Income Before Taxes'] = quarterly_joined_1['incomeBeforeTax']"
   ]
  },
  {
   "cell_type": "code",
   "execution_count": null,
   "metadata": {},
   "outputs": [],
   "source": [
    "#[INCOME STATEMENT][INCOME TAXES PAID] AKA [NET INCOME]\n",
    "#   [INCOME BEFORE TAX] - ([INCOME BEFORE TAX] * 0.35) != [INCOME TAXES PAID] ==> BAD\n",
    "#   FMP formula: incomeBeforeTax, incomeTaxExpense\n",
    "#   Need to determine logic for if GOOD or BAD, till then differences are used\n",
    "\n",
    "annual_metrics['Taxes Paid'] = annual_joined_1['incomeTaxExpense']\n",
    "annual_metrics['ifTaxesPaidAreCorrect'] = (annual_joined_1['incomeBeforeTax'] - ((annual_joined_1['incomeBeforeTax'] * 0.35)))\n",
    "annual_metrics['Difference between Taxes to Pay and Actual Taxes Paid'] = annual_metrics['ifTaxesPaidAreCorrect'] - annual_metrics['Taxes Paid']\n",
    "\n",
    "quarterly_metrics['Taxes Paid'] = annual_joined_1['incomeTaxExpense']\n",
    "quarterly_metrics['ifTaxesPaidAreCorrect'] = (quarterly_joined_1['incomeBeforeTax'] - ((quarterly_joined_1['incomeBeforeTax'] * 0.35)))\n",
    "quarterly_metrics['Difference between Taxes to Pay and Actual Taxes Paid'] = quarterly_metrics['ifTaxesPaidAreCorrect'] - annual_metrics['Taxes Paid']"
   ]
  },
  {
   "cell_type": "code",
   "execution_count": null,
   "metadata": {},
   "outputs": [],
   "source": [
    "#[INCOME STATEMENT][NET EARNINGS]\n",
    "#   FMP formula: netIncome = incomeBeforeTax - incomeTaxExpense\n",
    "\n",
    "#revenue is also needed in this analysis (companies with DCA: high net earnings to total revenue ratio)\n",
    "\n",
    "annual_metrics['Net Earnings'] = annual_joined_1['netIncome']\n",
    "annual_metrics['Total Revenue'] = annual_joined_1['revenue']\n",
    "\n",
    "quarterly_metrics['Net Earnings'] = quarterly_joined_1['netIncome']\n",
    "quarterly_metrics['Total Revenue'] = quarterly_joined_1['revenue']"
   ]
  },
  {
   "cell_type": "code",
   "execution_count": null,
   "metadata": {},
   "outputs": [],
   "source": [
    "#[INCOME STATEMENT][NET EARNINGS]\n",
    "# per share earnings\n",
    "#   FMP formula: netIncome / outstandingShares\n",
    "#outstandingShares is from another API call\n",
    "outstanding_shares = shares_call.iloc[0]['outstandingShares']\n",
    "\n",
    "annual_metrics['Per-Share Earnings'] = annual_joined_1['netIncome'] / outstanding_shares\n",
    "\n",
    "quarterly_metrics['Per-Share Earnings'] = quarterly_joined_1['netIncome'] / outstanding_shares"
   ]
  },
  {
   "cell_type": "code",
   "execution_count": null,
   "metadata": {},
   "outputs": [],
   "source": []
  },
  {
   "cell_type": "code",
   "execution_count": null,
   "metadata": {},
   "outputs": [],
   "source": []
  },
  {
   "cell_type": "code",
   "execution_count": null,
   "metadata": {},
   "outputs": [],
   "source": []
  },
  {
   "cell_type": "code",
   "execution_count": null,
   "metadata": {},
   "outputs": [],
   "source": []
  },
  {
   "cell_type": "code",
   "execution_count": null,
   "metadata": {},
   "outputs": [],
   "source": []
  },
  {
   "cell_type": "code",
   "execution_count": null,
   "metadata": {},
   "outputs": [],
   "source": []
  },
  {
   "cell_type": "code",
   "execution_count": null,
   "metadata": {},
   "outputs": [],
   "source": []
  },
  {
   "cell_type": "code",
   "execution_count": null,
   "metadata": {},
   "outputs": [],
   "source": []
  },
  {
   "cell_type": "code",
   "execution_count": null,
   "metadata": {},
   "outputs": [],
   "source": []
  },
  {
   "cell_type": "code",
   "execution_count": null,
   "metadata": {},
   "outputs": [],
   "source": []
  },
  {
   "cell_type": "code",
   "execution_count": null,
   "metadata": {},
   "outputs": [],
   "source": []
  },
  {
   "cell_type": "code",
   "execution_count": null,
   "metadata": {},
   "outputs": [],
   "source": [
    "#API response URLs with limit parameter in URL\n",
    "#yearly_income_stmt = pd.DataFrame((requests.get(BASE_URL + '/api/v3/income-statement/' + ticker + '?limit=120&apikey=' + FMP_API_KEY)).json())\n",
    "#monthly_income_stmt = pd.DataFrame((requests.get(BASE_URL + '/api/v3/income-statement/' + ticker + '?period=quarter&limit=120&apikey=' + FMP_API_KEY)).json())\n",
    "\n",
    "#without limit parameter in URL: \n",
    "#yearly_income_stmt = pd.DataFrame((requests.get(BASE_URL + '/api/v3/income-statement/' + ticker + '?apikey=' + FMP_API_KEY)).json())\n",
    "#monthly_income_stmt = pd.DataFrame((requests.get(BASE_URL + '/api/v3/income-statement/' + ticker + '?period=quarter&apikey=' + FMP_API_KEY)).json())\n",
    "\n",
    "#response_from_API = yearly_income.json()\n",
    "#df = pd.DataFrame(response_from_API)"
   ]
  }
 ],
 "metadata": {
  "kernelspec": {
   "display_name": "Python 3",
   "language": "python",
   "name": "python3"
  },
  "language_info": {
   "codemirror_mode": {
    "name": "ipython",
    "version": 3
   },
   "file_extension": ".py",
   "mimetype": "text/x-python",
   "name": "python",
   "nbconvert_exporter": "python",
   "pygments_lexer": "ipython3",
   "version": "3.8.5"
  }
 },
 "nbformat": 4,
 "nbformat_minor": 4
}
