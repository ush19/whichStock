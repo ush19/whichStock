{
 "cells": [
  {
   "cell_type": "code",
   "execution_count": null,
   "metadata": {},
   "outputs": [],
   "source": [
    "###REMEMBER TO CLEAR os.chdir() AND RESTART KERNEL AND CLEAR OUTPUT \n",
    "\n",
    "###FOR EXAMPLE: AAPL\n",
    "#https://investor.apple.com/sec-filings/default.aspx\n",
    "#10Q and 10K in whichStock directory   "
   ]
  },
  {
   "cell_type": "code",
   "execution_count": null,
   "metadata": {},
   "outputs": [],
   "source": [
    "from urllib.request import Request, urlopen\n",
    "\n",
    "import os\n",
    "import requests\n",
    "import re\n",
    "import json\n",
    "import pandas as pd\n",
    "\n",
    "import matplotlib.pyplot as plt"
   ]
  },
  {
   "cell_type": "code",
   "execution_count": null,
   "metadata": {},
   "outputs": [],
   "source": [
    "#get API key file contents and connect to FMP API\n",
    "os.chdir('~')\n",
    "\n",
    "FMP_API_KEY = \"\"\n",
    "BASE_URL = \"\"\n",
    "\n",
    "with open('FMP_API.txt', 'r') as file: \n",
    "    for line in file: \n",
    "        if line.startswith('FMP_API_KEY'): \n",
    "            FMP_API_KEY = line.split('\"')[1]\n",
    "        elif line.startswith('BASE_URL'): \n",
    "            BASE_URL = line.split('\"')[1]\n",
    "\n",
    "ticker = input(\"Enter ticker symbol for Buffett DCA Analysis: \")"
   ]
  },
  {
   "cell_type": "code",
   "execution_count": null,
   "metadata": {},
   "outputs": [],
   "source": [
    "# without limit parameter in URL: \n",
    "yearly_income_stmt = pd.DataFrame((requests.get(BASE_URL + '/api/v3/income-statement/' + ticker + '?apikey=' + FMP_API_KEY)).json())\n",
    "monthly_income_stmt = pd.DataFrame((requests.get(BASE_URL + '/api/v3/income-statement/' + ticker + '?period=quarter&apikey=' + FMP_API_KEY)).json())"
   ]
  },
  {
   "cell_type": "code",
   "execution_count": null,
   "metadata": {},
   "outputs": [],
   "source": [
    "#[INCOME STATEMENT][REVENUE]\n",
    "#   calculate gross profit, yearly and monthly\n",
    "#   WB formula:   NET EARNINGS = TOTAL REVENUE - COGS\n",
    "#   FMP formula:  REVENUE - COST OF REVENUE\n",
    "\n",
    "yearly_metrics = pd.DataFrame()\n",
    "yearly_metrics['Frequency'], yearly_metrics['Year'], yearly_metrics[\"Filing Date\"], yearly_metrics[\"Net Earnings\"] = ['', yearly_income_stmt['calendarYear'], yearly_income_stmt[\"fillingDate\"], yearly_income_stmt['revenue'] - yearly_income_stmt['costOfRevenue']]\n",
    "yearly_metrics.fillna('Annually', inplace=True)\n",
    "\n",
    "#yearly_metrics\n",
    "\n",
    "monthly_metrics = pd.DataFrame()\n",
    "monthly_metrics['Frequency'], monthly_metrics['Year'], monthly_metrics['Quarter'], monthly_metrics[\"Filing Date\"], monthly_metrics[\"Net Earnings\"] = ['', monthly_income_stmt['calendarYear'], monthly_income_stmt['period'], monthly_income_stmt['fillingDate'], monthly_income_stmt['revenue'] - monthly_income_stmt['costOfRevenue']]\n",
    "monthly_metrics.fillna('Quarterly', inplace = True)\n",
    "\n",
    "#monthly_metrics\n"
   ]
  },
  {
   "cell_type": "code",
   "execution_count": null,
   "metadata": {},
   "outputs": [],
   "source": []
  },
  {
   "cell_type": "code",
   "execution_count": null,
   "metadata": {},
   "outputs": [],
   "source": []
  },
  {
   "cell_type": "code",
   "execution_count": null,
   "metadata": {},
   "outputs": [],
   "source": []
  },
  {
   "cell_type": "code",
   "execution_count": null,
   "metadata": {},
   "outputs": [],
   "source": []
  },
  {
   "cell_type": "code",
   "execution_count": null,
   "metadata": {},
   "outputs": [],
   "source": []
  },
  {
   "cell_type": "code",
   "execution_count": null,
   "metadata": {},
   "outputs": [],
   "source": []
  },
  {
   "cell_type": "code",
   "execution_count": null,
   "metadata": {},
   "outputs": [],
   "source": []
  },
  {
   "cell_type": "code",
   "execution_count": null,
   "metadata": {},
   "outputs": [],
   "source": []
  },
  {
   "cell_type": "code",
   "execution_count": null,
   "metadata": {},
   "outputs": [],
   "source": [
    "#API response URLs with limit parameter in URL\n",
    "#yearly_income_stmt = pd.DataFrame((requests.get(BASE_URL + '/api/v3/income-statement/' + ticker + '?limit=120&apikey=' + FMP_API_KEY)).json())\n",
    "#monthly_income_stmt = pd.DataFrame((requests.get(BASE_URL + '/api/v3/income-statement/' + ticker + '?period=quarter&limit=120&apikey=' + FMP_API_KEY)).json())\n",
    "\n",
    "#without limit parameter in URL: \n",
    "#yearly_income_stmt = pd.DataFrame((requests.get(BASE_URL + '/api/v3/income-statement/' + ticker + '?apikey=' + FMP_API_KEY)).json())\n",
    "#monthly_income_stmt = pd.DataFrame((requests.get(BASE_URL + '/api/v3/income-statement/' + ticker + '?period=quarter&apikey=' + FMP_API_KEY)).json())\n",
    "\n",
    "#response_from_API = yearly_income.json()\n",
    "#df = pd.DataFrame(response_from_API)"
   ]
  }
 ],
 "metadata": {
  "kernelspec": {
   "display_name": "Python 3",
   "language": "python",
   "name": "python3"
  },
  "language_info": {
   "codemirror_mode": {
    "name": "ipython",
    "version": 3
   },
   "file_extension": ".py",
   "mimetype": "text/x-python",
   "name": "python",
   "nbconvert_exporter": "python",
   "pygments_lexer": "ipython3",
   "version": "3.8.5"
  }
 },
 "nbformat": 4,
 "nbformat_minor": 4
}
