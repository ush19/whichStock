{
 "cells": [
  {
   "cell_type": "code",
   "execution_count": null,
   "metadata": {},
   "outputs": [],
   "source": [
    "###REMEMBER TO CLEAR os.chdir() AND RESTART KERNEL AND CLEAR OUTPUT \n",
    "\n",
    "###FOR EXAMPLE: AAPL\n",
    "#https://investor.apple.com/sec-filings/default.aspx\n",
    "#10Q and 10K in whichStock directory   "
   ]
  },
  {
   "cell_type": "code",
   "execution_count": null,
   "metadata": {},
   "outputs": [],
   "source": [
    "from urllib.request import Request, urlopen\n",
    "\n",
    "import os\n",
    "import requests\n",
    "import re\n",
    "import json\n",
    "import pandas as pd\n",
    "\n",
    "import matplotlib.pyplot as plt"
   ]
  },
  {
   "cell_type": "code",
   "execution_count": null,
   "metadata": {},
   "outputs": [],
   "source": [
    "#get API key file contents and connect to FMP API\n",
    "#os.chdir('~')\n",
    "\n",
    "FMP_API_KEY = \"\"\n",
    "BASE_URL = \"\"\n",
    "\n",
    "with open('FMP_API.txt', 'r') as file: \n",
    "    for line in file: \n",
    "        if line.startswith('FMP_API_KEY'): \n",
    "            FMP_API_KEY = line.split('\"')[1]\n",
    "        elif line.startswith('BASE_URL'): \n",
    "            BASE_URL = line.split('\"')[1]\n",
    "\n",
    "ticker = input(\"Enter ticker symbol for Buffett DCA Analysis: \")"
   ]
  },
  {
   "cell_type": "code",
   "execution_count": null,
   "metadata": {},
   "outputs": [],
   "source": [
    "# without limit parameter in URL: \n",
    "annual_income_stmt = pd.DataFrame((requests.get(BASE_URL + '/api/v3/income-statement/' + ticker + '?apikey=' + FMP_API_KEY)).json())\n",
    "quarterly_income_stmt = pd.DataFrame((requests.get(BASE_URL + '/api/v3/income-statement/' + ticker + '?period=quarter&apikey=' + FMP_API_KEY)).json())"
   ]
  },
  {
   "cell_type": "code",
   "execution_count": null,
   "metadata": {},
   "outputs": [],
   "source": [
    "annual_income_stmt.head()"
   ]
  },
  {
   "cell_type": "code",
   "execution_count": null,
   "metadata": {},
   "outputs": [],
   "source": [
    "quarterly_income_stmt.head()"
   ]
  },
  {
   "cell_type": "code",
   "execution_count": null,
   "metadata": {},
   "outputs": [],
   "source": [
    "#[INCOME STATEMENT][REVENUE][COST OF GOODS SOLD]\n",
    "#   calculate net earnings, annually and monthly\n",
    "#   WB formula:   NET REVENUE = TOTAL REVENUE - COGS\n",
    "#   FMP formula:  REVENUE - COST OF REVENUE\n",
    "\n",
    "annual_metrics = pd.DataFrame()\n",
    "annual_metrics['Ticker'], annual_metrics['Frequency'], annual_metrics['Year'], annual_metrics[\"Filing Date\"], annual_metrics[\"Net Earnings\"] = [ticker, '', annual_income_stmt['calendarYear'], annual_income_stmt[\"fillingDate\"], annual_income_stmt['revenue'] - annual_income_stmt['costOfRevenue']]\n",
    "annual_metrics['Ticker'] = ticker\n",
    "annual_metrics['Frequency'] = 'Annually'\n",
    "\n",
    "#annual_metrics\n",
    "\n",
    "quarterly_metrics = pd.DataFrame()\n",
    "quarterly_metrics['Ticker'], quarterly_metrics['Frequency'], quarterly_metrics['Year'], quarterly_metrics['Quarter'], quarterly_metrics[\"Filing Date\"], quarterly_metrics[\"Net Earnings\"] = [ticker, '', quarterly_income_stmt['calendarYear'], quarterly_income_stmt['period'], quarterly_income_stmt['fillingDate'], quarterly_income_stmt['revenue'] - quarterly_income_stmt['costOfRevenue']]\n",
    "quarterly_metrics['Ticker'] = ticker\n",
    "quarterly_metrics['Frequency'] = 'Quarterly'\n",
    "\n",
    "#quarterly_metrics\n"
   ]
  },
  {
   "cell_type": "code",
   "execution_count": null,
   "metadata": {},
   "outputs": [],
   "source": [
    "#[INCOME STATEMENT][COST OF GOODS SOLD]\n",
    "#   store COGS value in metrics table, annually and quarterly\n",
    "annual_metrics['COGS'] = annual_income_stmt['costOfRevenue']\n",
    "\n",
    "quarterly_metrics['COGS'] = quarterly_income_stmt['costOfRevenue']"
   ]
  },
  {
   "cell_type": "code",
   "execution_count": null,
   "metadata": {},
   "outputs": [],
   "source": [
    "annual_metrics.head()"
   ]
  },
  {
   "cell_type": "code",
   "execution_count": null,
   "metadata": {},
   "outputs": [],
   "source": [
    "quarterly_metrics.head()"
   ]
  },
  {
   "cell_type": "code",
   "execution_count": null,
   "metadata": {},
   "outputs": [],
   "source": [
    "#[INCOME STATEMENT][REVENUE][COST OF GOODS SOLD]\n",
    "#   calculate gross profit margin, annually and monthly\n",
    "#   WB formula:   GROSS PROFIT MARGIN = GROSS PROFIT / TOTAL REVENUE\n",
    "#   FMP formula:  GROSS PROFIT MARGIN = GROSS PROFIT / REVENUE\n",
    "\n",
    "#1 IN DATAFRAME NAME SINCE FIRST TIME MERGING RAW AND CALCULATED DATA\n",
    "annual_joined_1 = annual_income_stmt.merge(annual_metrics, how = 'inner', left_on = ['fillingDate', 'calendarYear'], right_on = ['Filing Date', 'Year'])\n",
    "quarterly_joined_1 = quarterly_income_stmt.merge(quarterly_metrics, how = 'inner', left_on = ['fillingDate', 'calendarYear', 'period'], right_on = ['Filing Date', 'Year', 'Quarter'])\n",
    "\n",
    "#calculations for GPM \n",
    "annual_metrics['Gross Profit Margin'] = (annual_joined_1['Net Earnings'] / annual_joined_1['revenue'])\n",
    "quarterly_metrics['Gross Profit Margin'] = quarterly_joined_1['Net Earnings'] / quarterly_joined_1['revenue']"
   ]
  },
  {
   "cell_type": "code",
   "execution_count": null,
   "metadata": {},
   "outputs": [],
   "source": [
    "#[INCOME STATEMENT][OPERATING EXPENSES][GROSS PROFIT]\n",
    "#   calculate operating profit or loss, annually and monthly\n",
    "#   WB formula: TOTAL OPERATING EXPENSES - GROSS PROFIT\n",
    "#   FMP formula: OPERATING EXPENSES - GROSS PROFIT\n",
    "\n",
    "#calculations for operating P/L\n",
    "annual_metrics['Operating P/L'] = (annual_joined_1['revenue'] - annual_joined_1['operatingExpenses'])\n",
    "quarterly_metrics['Operating P/L'] = (quarterly_joined_1['revenue'] - quarterly_joined_1['operatingExpenses'])"
   ]
  },
  {
   "cell_type": "code",
   "execution_count": null,
   "metadata": {},
   "outputs": [],
   "source": []
  },
  {
   "cell_type": "code",
   "execution_count": null,
   "metadata": {},
   "outputs": [],
   "source": []
  },
  {
   "cell_type": "code",
   "execution_count": null,
   "metadata": {},
   "outputs": [],
   "source": []
  },
  {
   "cell_type": "code",
   "execution_count": null,
   "metadata": {},
   "outputs": [],
   "source": []
  },
  {
   "cell_type": "code",
   "execution_count": null,
   "metadata": {},
   "outputs": [],
   "source": []
  },
  {
   "cell_type": "code",
   "execution_count": null,
   "metadata": {},
   "outputs": [],
   "source": []
  },
  {
   "cell_type": "code",
   "execution_count": null,
   "metadata": {},
   "outputs": [],
   "source": []
  },
  {
   "cell_type": "code",
   "execution_count": null,
   "metadata": {},
   "outputs": [],
   "source": []
  },
  {
   "cell_type": "code",
   "execution_count": null,
   "metadata": {},
   "outputs": [],
   "source": [
    "#API response URLs with limit parameter in URL\n",
    "#yearly_income_stmt = pd.DataFrame((requests.get(BASE_URL + '/api/v3/income-statement/' + ticker + '?limit=120&apikey=' + FMP_API_KEY)).json())\n",
    "#monthly_income_stmt = pd.DataFrame((requests.get(BASE_URL + '/api/v3/income-statement/' + ticker + '?period=quarter&limit=120&apikey=' + FMP_API_KEY)).json())\n",
    "\n",
    "#without limit parameter in URL: \n",
    "#yearly_income_stmt = pd.DataFrame((requests.get(BASE_URL + '/api/v3/income-statement/' + ticker + '?apikey=' + FMP_API_KEY)).json())\n",
    "#monthly_income_stmt = pd.DataFrame((requests.get(BASE_URL + '/api/v3/income-statement/' + ticker + '?period=quarter&apikey=' + FMP_API_KEY)).json())\n",
    "\n",
    "#response_from_API = yearly_income.json()\n",
    "#df = pd.DataFrame(response_from_API)"
   ]
  }
 ],
 "metadata": {
  "kernelspec": {
   "display_name": "Python 3",
   "language": "python",
   "name": "python3"
  },
  "language_info": {
   "codemirror_mode": {
    "name": "ipython",
    "version": 3
   },
   "file_extension": ".py",
   "mimetype": "text/x-python",
   "name": "python",
   "nbconvert_exporter": "python",
   "pygments_lexer": "ipython3",
   "version": "3.8.5"
  }
 },
 "nbformat": 4,
 "nbformat_minor": 4
}
