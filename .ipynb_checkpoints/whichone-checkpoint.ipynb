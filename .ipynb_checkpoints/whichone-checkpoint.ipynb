{
 "cells": [
  {
   "cell_type": "code",
   "execution_count": null,
   "metadata": {},
   "outputs": [],
   "source": [
    "import os\n",
    "import requests\n",
    "import re\n",
    "import json"
   ]
  },
  {
   "cell_type": "code",
   "execution_count": null,
   "metadata": {},
   "outputs": [],
   "source": [
    "#get API key file contents and connect to FMP API\n",
    "os.chdir('~')\n",
    "\n",
    "FMP_API_KEY = \"\"\n",
    "BASE_URL = \"\"\n",
    "\n",
    "with open('FMP_API.txt', 'r') as file: \n",
    "    for line in file: \n",
    "        if line.startswith('FMP_API_KEY'): \n",
    "            FMP_API_KEY = line.split('\"')[1]\n",
    "        elif line.startswith('BASE_URL'): \n",
    "            BASE_URL = line.split('\"')[1]\n",
    "\n",
    "response_API = requests.get(BASE_URL + '/api/v3/income-statement/AAPL?limit=120&apikey=' + FMP_API_KEY)\n"
   ]
  },
  {
   "cell_type": "code",
   "execution_count": null,
   "metadata": {},
   "outputs": [],
   "source": [
    "#test\n",
    "print(response_API.text)"
   ]
  }
 ],
 "metadata": {
  "kernelspec": {
   "display_name": "Python 3",
   "language": "python",
   "name": "python3"
  },
  "language_info": {
   "codemirror_mode": {
    "name": "ipython",
    "version": 3
   },
   "file_extension": ".py",
   "mimetype": "text/x-python",
   "name": "python",
   "nbconvert_exporter": "python",
   "pygments_lexer": "ipython3",
   "version": "3.8.5"
  }
 },
 "nbformat": 4,
 "nbformat_minor": 4
}
