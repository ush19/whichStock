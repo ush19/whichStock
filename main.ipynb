{
 "cells": [
  {
   "cell_type": "code",
   "execution_count": null,
   "metadata": {},
   "outputs": [],
   "source": [
    "###REMEMBER TO CLEAR os.chdir() AND RESTART KERNEL AND CLEAR OUTPUT \n",
    "\n",
    "###FOR EXAMPLE: AAPL\n",
    "#https://investor.apple.com/sec-filings/default.aspx\n",
    "#10Q and 10K in whichStock directory   "
   ]
  },
  {
   "cell_type": "code",
   "execution_count": 1,
   "metadata": {},
   "outputs": [],
   "source": [
    "from urllib.request import Request, urlopen\n",
    "\n",
    "import os\n",
    "import requests\n",
    "import re\n",
    "import json\n",
    "import pandas as pd\n",
    "\n",
    "import matplotlib.pyplot as plt"
   ]
  },
  {
   "cell_type": "code",
   "execution_count": 2,
   "metadata": {},
   "outputs": [
    {
     "name": "stdout",
     "output_type": "stream",
     "text": [
      "Enter ticker symbol for Buffett DCA Analysis: AAPL\n"
     ]
    }
   ],
   "source": [
    "#get API key file contents and connect to FMP API\n",
    "os.chdir('/Users/susheel/Library/CloudStorage/GoogleDrive-palakurthisusheel@gmail.com/My Drive/Projects/secrets/financialmodelingprep')\n",
    "#os.chdir('~')\n",
    "\n",
    "FMP_API_KEY = \"\"\n",
    "BASE_URL = \"\"\n",
    "\n",
    "with open('FMP_API.txt', 'r') as file: \n",
    "    for line in file: \n",
    "        if line.startswith('FMP_API_KEY'): \n",
    "            FMP_API_KEY = line.split('\"')[1]\n",
    "        elif line.startswith('BASE_URL'): \n",
    "            BASE_URL = line.split('\"')[1]\n",
    "\n",
    "ticker = input(\"Enter ticker symbol for Buffett DCA Analysis: \")"
   ]
  },
  {
   "cell_type": "code",
   "execution_count": 12,
   "metadata": {},
   "outputs": [],
   "source": [
    "# without limit parameter in URL: \n",
    "annual_income_stmt = pd.DataFrame((requests.get(BASE_URL + '/api/v3/income-statement/' + ticker + '?apikey=' + FMP_API_KEY)).json())\n",
    "quarterly_income_stmt = pd.DataFrame((requests.get(BASE_URL + '/api/v3/income-statement/' + ticker + '?period=quarter&apikey=' + FMP_API_KEY)).json())"
   ]
  },
  {
   "cell_type": "code",
   "execution_count": 17,
   "metadata": {},
   "outputs": [],
   "source": [
    "#[INCOME STATEMENT][REVENUE]\n",
    "#   calculate gross profit, yearly and monthly\n",
    "#   WB formula:   NET EARNINGS = TOTAL REVENUE - COGS\n",
    "#   FMP formula:  REVENUE - COST OF REVENUE\n",
    "\n",
    "annual_metrics = pd.DataFrame()\n",
    "annual_metrics['Ticker'], annual_metrics['Frequency'], annual_metrics['Year'], annual_metrics[\"Filing Date\"], annual_metrics[\"Net Earnings\"] = [ticker, '', annual_income_stmt['calendarYear'], annual_income_stmt[\"fillingDate\"], annual_income_stmt['revenue'] - annual_income_stmt['costOfRevenue']]\n",
    "annual_metrics['Ticker'] = ticker\n",
    "annual_metrics['Frequency'] = 'Annually'\n",
    "\n",
    "#yearly_metrics\n",
    "\n",
    "quarterly_metrics = pd.DataFrame()\n",
    "quarterly_metrics['Ticker'], quarterly_metrics['Frequency'], quarterly_metrics['Year'], quarterly_metrics['Quarter'], quarterly_metrics[\"Filing Date\"], quarterly_metrics[\"Net Earnings\"] = [ticker, '', quarterly_income_stmt['calendarYear'], quarterly_income_stmt['period'], quarterly_income_stmt['fillingDate'], quarterly_income_stmt['revenue'] - quarterly_income_stmt['costOfRevenue']]\n",
    "quarterly_metrics['Ticker'] = ticker\n",
    "quarterly_metrics['Frequency'] = 'Quarterly'\n",
    "\n",
    "#monthly_metrics\n"
   ]
  },
  {
   "cell_type": "code",
   "execution_count": null,
   "metadata": {},
   "outputs": [],
   "source": []
  },
  {
   "cell_type": "code",
   "execution_count": null,
   "metadata": {},
   "outputs": [],
   "source": []
  },
  {
   "cell_type": "code",
   "execution_count": null,
   "metadata": {},
   "outputs": [],
   "source": []
  },
  {
   "cell_type": "code",
   "execution_count": null,
   "metadata": {},
   "outputs": [],
   "source": []
  },
  {
   "cell_type": "code",
   "execution_count": null,
   "metadata": {},
   "outputs": [],
   "source": []
  },
  {
   "cell_type": "code",
   "execution_count": null,
   "metadata": {},
   "outputs": [],
   "source": []
  },
  {
   "cell_type": "code",
   "execution_count": null,
   "metadata": {},
   "outputs": [],
   "source": [
    "#API response URLs with limit parameter in URL\n",
    "#yearly_income_stmt = pd.DataFrame((requests.get(BASE_URL + '/api/v3/income-statement/' + ticker + '?limit=120&apikey=' + FMP_API_KEY)).json())\n",
    "#monthly_income_stmt = pd.DataFrame((requests.get(BASE_URL + '/api/v3/income-statement/' + ticker + '?period=quarter&limit=120&apikey=' + FMP_API_KEY)).json())\n",
    "\n",
    "#without limit parameter in URL: \n",
    "#yearly_income_stmt = pd.DataFrame((requests.get(BASE_URL + '/api/v3/income-statement/' + ticker + '?apikey=' + FMP_API_KEY)).json())\n",
    "#monthly_income_stmt = pd.DataFrame((requests.get(BASE_URL + '/api/v3/income-statement/' + ticker + '?period=quarter&apikey=' + FMP_API_KEY)).json())\n",
    "\n",
    "#response_from_API = yearly_income.json()\n",
    "#df = pd.DataFrame(response_from_API)"
   ]
  }
 ],
 "metadata": {
  "kernelspec": {
   "display_name": "Python 3",
   "language": "python",
   "name": "python3"
  },
  "language_info": {
   "codemirror_mode": {
    "name": "ipython",
    "version": 3
   },
   "file_extension": ".py",
   "mimetype": "text/x-python",
   "name": "python",
   "nbconvert_exporter": "python",
   "pygments_lexer": "ipython3",
   "version": "3.8.5"
  }
 },
 "nbformat": 4,
 "nbformat_minor": 4
}
